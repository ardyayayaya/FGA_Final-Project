{
 "cells": [
  {
   "cell_type": "markdown",
   "metadata": {},
   "source": [
    "### MODUL-MODUL YANG DIGUNAKAN"
   ]
  },
  {
   "cell_type": "code",
   "execution_count": 1,
   "metadata": {},
   "outputs": [],
   "source": [
    "import pandas as pd\n",
    "import matplotlib.pyplot as plt\n",
    "import matplotlib.dates as mdates\n",
    "from pytrends.request import TrendReq\n",
    "from sklearn.preprocessing import StandardScaler\n",
    "from sklearn.model_selection import GridSearchCV\n",
    "from sklearn.svm import SVR\n",
    "import warnings\n",
    "warnings.filterwarnings('ignore')\n",
    "import datetime as dt"
   ]
  },
  {
   "cell_type": "markdown",
   "metadata": {},
   "source": [
    "### Proses Crawling data menggunakan pytrend"
   ]
  },
  {
   "cell_type": "code",
   "execution_count": 3,
   "metadata": {},
   "outputs": [],
   "source": [
    "pytrend = TrendReq(hl='id-IDN', tz=90)"
   ]
  },
  {
   "cell_type": "code",
   "execution_count": 4,
   "metadata": {},
   "outputs": [],
   "source": [
    "kw_list = [\"jokowi\"]"
   ]
  },
  {
   "cell_type": "code",
   "execution_count": 5,
   "metadata": {},
   "outputs": [],
   "source": [
    "pytrend.build_payload(kw_list, cat=0, timeframe='2014-11-17 2019-11-17',geo='',gprop='')\n",
    "\n",
    "#Interest Over Time\n",
    "interest_over_time_df = pytrend.interest_over_time()"
   ]
  },
  {
   "cell_type": "code",
   "execution_count": 6,
   "metadata": {},
   "outputs": [],
   "source": [
    "i_o_t=pd.DataFrame(interest_over_time_df,index=None)"
   ]
  },
  {
   "cell_type": "code",
   "execution_count": 7,
   "metadata": {},
   "outputs": [],
   "source": [
    "i_o_t=i_o_t.reset_index()"
   ]
  },
  {
   "cell_type": "markdown",
   "metadata": {},
   "source": [
    "### DATA"
   ]
  },
  {
   "cell_type": "markdown",
   "metadata": {},
   "source": [
    "Data yang digunakan adalah overtime mengenai JOKOWI(topik). Disini terdapat 2 variabel yakni date dan overtime"
   ]
  },
  {
   "cell_type": "markdown",
   "metadata": {},
   "source": [
    "Date adalah tanggal pencarian(5 tahun terakhir sampai 17 November 2019)\n",
    "\n",
    "Jokowi dalam hal ini adalah keyword ( Overtime mengenai jokowi/minggu).\n",
    "\n"
   ]
  },
  {
   "cell_type": "code",
   "execution_count": 8,
   "metadata": {},
   "outputs": [
    {
     "data": {
      "text/html": [
       "<div>\n",
       "<style scoped>\n",
       "    .dataframe tbody tr th:only-of-type {\n",
       "        vertical-align: middle;\n",
       "    }\n",
       "\n",
       "    .dataframe tbody tr th {\n",
       "        vertical-align: top;\n",
       "    }\n",
       "\n",
       "    .dataframe thead th {\n",
       "        text-align: right;\n",
       "    }\n",
       "</style>\n",
       "<table border=\"1\" class=\"dataframe\">\n",
       "  <thead>\n",
       "    <tr style=\"text-align: right;\">\n",
       "      <th></th>\n",
       "      <th>date</th>\n",
       "      <th>jokowi</th>\n",
       "      <th>isPartial</th>\n",
       "    </tr>\n",
       "  </thead>\n",
       "  <tbody>\n",
       "    <tr>\n",
       "      <th>0</th>\n",
       "      <td>2014-11-23</td>\n",
       "      <td>27</td>\n",
       "      <td>False</td>\n",
       "    </tr>\n",
       "    <tr>\n",
       "      <th>1</th>\n",
       "      <td>2014-11-30</td>\n",
       "      <td>21</td>\n",
       "      <td>False</td>\n",
       "    </tr>\n",
       "    <tr>\n",
       "      <th>2</th>\n",
       "      <td>2014-12-07</td>\n",
       "      <td>18</td>\n",
       "      <td>False</td>\n",
       "    </tr>\n",
       "    <tr>\n",
       "      <th>3</th>\n",
       "      <td>2014-12-14</td>\n",
       "      <td>16</td>\n",
       "      <td>False</td>\n",
       "    </tr>\n",
       "    <tr>\n",
       "      <th>4</th>\n",
       "      <td>2014-12-21</td>\n",
       "      <td>15</td>\n",
       "      <td>False</td>\n",
       "    </tr>\n",
       "    <tr>\n",
       "      <th>5</th>\n",
       "      <td>2014-12-28</td>\n",
       "      <td>14</td>\n",
       "      <td>False</td>\n",
       "    </tr>\n",
       "    <tr>\n",
       "      <th>6</th>\n",
       "      <td>2015-01-04</td>\n",
       "      <td>12</td>\n",
       "      <td>False</td>\n",
       "    </tr>\n",
       "    <tr>\n",
       "      <th>7</th>\n",
       "      <td>2015-01-11</td>\n",
       "      <td>15</td>\n",
       "      <td>False</td>\n",
       "    </tr>\n",
       "    <tr>\n",
       "      <th>8</th>\n",
       "      <td>2015-01-18</td>\n",
       "      <td>17</td>\n",
       "      <td>False</td>\n",
       "    </tr>\n",
       "    <tr>\n",
       "      <th>9</th>\n",
       "      <td>2015-01-25</td>\n",
       "      <td>21</td>\n",
       "      <td>False</td>\n",
       "    </tr>\n",
       "  </tbody>\n",
       "</table>\n",
       "</div>"
      ],
      "text/plain": [
       "        date  jokowi isPartial\n",
       "0 2014-11-23      27     False\n",
       "1 2014-11-30      21     False\n",
       "2 2014-12-07      18     False\n",
       "3 2014-12-14      16     False\n",
       "4 2014-12-21      15     False\n",
       "5 2014-12-28      14     False\n",
       "6 2015-01-04      12     False\n",
       "7 2015-01-11      15     False\n",
       "8 2015-01-18      17     False\n",
       "9 2015-01-25      21     False"
      ]
     },
     "execution_count": 8,
     "metadata": {},
     "output_type": "execute_result"
    }
   ],
   "source": [
    "i_o_t.head(10)"
   ]
  },
  {
   "cell_type": "code",
   "execution_count": 9,
   "metadata": {},
   "outputs": [],
   "source": [
    "i_o_t.columns=['date','jokowi','ispartial']"
   ]
  },
  {
   "cell_type": "code",
   "execution_count": 10,
   "metadata": {},
   "outputs": [
    {
     "data": {
      "text/plain": [
       "Index(['date', 'jokowi', 'ispartial'], dtype='object')"
      ]
     },
     "execution_count": 10,
     "metadata": {},
     "output_type": "execute_result"
    }
   ],
   "source": [
    "i_o_t.columns"
   ]
  },
  {
   "cell_type": "markdown",
   "metadata": {},
   "source": [
    "#### EDA dan Cleaning Data"
   ]
  },
  {
   "cell_type": "markdown",
   "metadata": {},
   "source": [
    "Sebelum dilakukan visualisasi terhadap data , terlebih dahulu kita lakukan cleaning data.\n",
    "\n"
   ]
  },
  {
   "cell_type": "code",
   "execution_count": 11,
   "metadata": {},
   "outputs": [
    {
     "name": "stdout",
     "output_type": "stream",
     "text": [
      "<class 'pandas.core.frame.DataFrame'>\n",
      "RangeIndex: 261 entries, 0 to 260\n",
      "Data columns (total 3 columns):\n",
      "date         261 non-null datetime64[ns]\n",
      "jokowi       261 non-null int32\n",
      "ispartial    261 non-null object\n",
      "dtypes: datetime64[ns](1), int32(1), object(1)\n",
      "memory usage: 5.2+ KB\n"
     ]
    }
   ],
   "source": [
    "i_o_t.info()"
   ]
  },
  {
   "cell_type": "markdown",
   "metadata": {},
   "source": [
    "dapat dilihat bahwa tipe data diatas sudah sesuai, selajutnya kita akan menghapus kolom ispartial karena disini hanya akan digunakan dua variabel seperti yang sudah dijelaskan sebelumnya."
   ]
  },
  {
   "cell_type": "code",
   "execution_count": 12,
   "metadata": {},
   "outputs": [],
   "source": [
    "df=i_o_t.drop(['ispartial'],axis=1)"
   ]
  },
  {
   "cell_type": "markdown",
   "metadata": {},
   "source": [
    "Mengecek Missing values"
   ]
  },
  {
   "cell_type": "code",
   "execution_count": 13,
   "metadata": {},
   "outputs": [
    {
     "data": {
      "text/plain": [
       "date      0\n",
       "jokowi    0\n",
       "dtype: int64"
      ]
     },
     "execution_count": 13,
     "metadata": {},
     "output_type": "execute_result"
    }
   ],
   "source": [
    "# Mendapatkan jumlah data yang hilang\n",
    "missing_values_count = df.isnull().sum()\n",
    "\n",
    "\n",
    "missing_values_count[0:2]"
   ]
  },
  {
   "cell_type": "markdown",
   "metadata": {},
   "source": [
    "### Visualization"
   ]
  },
  {
   "cell_type": "markdown",
   "metadata": {},
   "source": [
    "1. Top Chart google"
   ]
  },
  {
   "cell_type": "code",
   "execution_count": 184,
   "metadata": {
    "scrolled": true
   },
   "outputs": [
    {
     "name": "stdout",
     "output_type": "stream",
     "text": [
      "                 title exploreQuery\n",
      "0               Jokowi             \n",
      "1              Prabowo             \n",
      "2            CPNS 2014             \n",
      "3                 ISIS             \n",
      "4  Sakitnya Tuh Disini             \n"
     ]
    }
   ],
   "source": [
    "#tahun 2014\n",
    "pytrend = TrendReq(hl='id-IDN', tz=90)\n",
    "\n",
    "top_charts_df = pytrend.top_charts(2014, hl='id-IDN', tz=90, geo='ID')\n",
    "print(top_charts_df.head())"
   ]
  },
  {
   "cell_type": "code",
   "execution_count": 185,
   "metadata": {},
   "outputs": [],
   "source": [
    "top_charts_df=pd.DataFrame(top_charts_df,)"
   ]
  },
  {
   "cell_type": "code",
   "execution_count": 186,
   "metadata": {},
   "outputs": [
    {
     "data": {
      "text/html": [
       "<div>\n",
       "<style scoped>\n",
       "    .dataframe tbody tr th:only-of-type {\n",
       "        vertical-align: middle;\n",
       "    }\n",
       "\n",
       "    .dataframe tbody tr th {\n",
       "        vertical-align: top;\n",
       "    }\n",
       "\n",
       "    .dataframe thead th {\n",
       "        text-align: right;\n",
       "    }\n",
       "</style>\n",
       "<table border=\"1\" class=\"dataframe\">\n",
       "  <thead>\n",
       "    <tr style=\"text-align: right;\">\n",
       "      <th></th>\n",
       "      <th>title</th>\n",
       "      <th>exploreQuery</th>\n",
       "    </tr>\n",
       "  </thead>\n",
       "  <tbody>\n",
       "    <tr>\n",
       "      <th>0</th>\n",
       "      <td>Jokowi</td>\n",
       "      <td></td>\n",
       "    </tr>\n",
       "    <tr>\n",
       "      <th>1</th>\n",
       "      <td>Prabowo</td>\n",
       "      <td></td>\n",
       "    </tr>\n",
       "    <tr>\n",
       "      <th>2</th>\n",
       "      <td>CPNS 2014</td>\n",
       "      <td></td>\n",
       "    </tr>\n",
       "    <tr>\n",
       "      <th>3</th>\n",
       "      <td>ISIS</td>\n",
       "      <td></td>\n",
       "    </tr>\n",
       "    <tr>\n",
       "      <th>4</th>\n",
       "      <td>Sakitnya Tuh Disini</td>\n",
       "      <td></td>\n",
       "    </tr>\n",
       "    <tr>\n",
       "      <th>5</th>\n",
       "      <td>Nagita Slavina</td>\n",
       "      <td></td>\n",
       "    </tr>\n",
       "    <tr>\n",
       "      <th>6</th>\n",
       "      <td>MH 370</td>\n",
       "      <td></td>\n",
       "    </tr>\n",
       "    <tr>\n",
       "      <th>7</th>\n",
       "      <td>Pilpres 2014</td>\n",
       "      <td></td>\n",
       "    </tr>\n",
       "    <tr>\n",
       "      <th>8</th>\n",
       "      <td>Kabinet Jokowi</td>\n",
       "      <td></td>\n",
       "    </tr>\n",
       "    <tr>\n",
       "      <th>9</th>\n",
       "      <td>Ebola</td>\n",
       "      <td></td>\n",
       "    </tr>\n",
       "  </tbody>\n",
       "</table>\n",
       "</div>"
      ],
      "text/plain": [
       "                 title exploreQuery\n",
       "0               Jokowi             \n",
       "1              Prabowo             \n",
       "2            CPNS 2014             \n",
       "3                 ISIS             \n",
       "4  Sakitnya Tuh Disini             \n",
       "5       Nagita Slavina             \n",
       "6               MH 370             \n",
       "7         Pilpres 2014             \n",
       "8       Kabinet Jokowi             \n",
       "9                Ebola             "
      ]
     },
     "execution_count": 186,
     "metadata": {},
     "output_type": "execute_result"
    }
   ],
   "source": [
    "top_charts_df\n"
   ]
  },
  {
   "cell_type": "code",
   "execution_count": 167,
   "metadata": {},
   "outputs": [
    {
     "name": "stdout",
     "output_type": "stream",
     "text": [
      "                   title exploreQuery\n",
      "0             Dilan 1990             \n",
      "1  Avengers Infinity War             \n",
      "2        Fantastic Beast             \n",
      "3                The Nun             \n",
      "4          Black Panther             \n"
     ]
    }
   ],
   "source": [
    "#tahun 2018\n",
    "top_charts_df2 = pytrend.top_charts(2018, hl='id-IDN', tz=90, geo='ID')\n",
    "print(top_charts_df2.head())"
   ]
  },
  {
   "cell_type": "code",
   "execution_count": 148,
   "metadata": {},
   "outputs": [],
   "source": [
    "cv=['Dilan 1990']\n",
    "pytrend.build_payload(cv, cat=0, timeframe='2018-1-1 2018-12-31',geo='',gprop='')\n",
    "\n",
    "#Interest Over Time\n",
    "it = pytrend.interest_over_time()"
   ]
  },
  {
   "cell_type": "code",
   "execution_count": 151,
   "metadata": {},
   "outputs": [
    {
     "data": {
      "text/html": [
       "<div>\n",
       "<style scoped>\n",
       "    .dataframe tbody tr th:only-of-type {\n",
       "        vertical-align: middle;\n",
       "    }\n",
       "\n",
       "    .dataframe tbody tr th {\n",
       "        vertical-align: top;\n",
       "    }\n",
       "\n",
       "    .dataframe thead th {\n",
       "        text-align: right;\n",
       "    }\n",
       "</style>\n",
       "<table border=\"1\" class=\"dataframe\">\n",
       "  <thead>\n",
       "    <tr style=\"text-align: right;\">\n",
       "      <th></th>\n",
       "      <th>Dilan 1990</th>\n",
       "      <th>isPartial</th>\n",
       "    </tr>\n",
       "    <tr>\n",
       "      <th>date</th>\n",
       "      <th></th>\n",
       "      <th></th>\n",
       "    </tr>\n",
       "  </thead>\n",
       "  <tbody>\n",
       "    <tr>\n",
       "      <th>2018-01-07</th>\n",
       "      <td>3</td>\n",
       "      <td>False</td>\n",
       "    </tr>\n",
       "    <tr>\n",
       "      <th>2018-01-14</th>\n",
       "      <td>9</td>\n",
       "      <td>False</td>\n",
       "    </tr>\n",
       "    <tr>\n",
       "      <th>2018-01-21</th>\n",
       "      <td>39</td>\n",
       "      <td>False</td>\n",
       "    </tr>\n",
       "    <tr>\n",
       "      <th>2018-01-28</th>\n",
       "      <td>92</td>\n",
       "      <td>False</td>\n",
       "    </tr>\n",
       "    <tr>\n",
       "      <th>2018-02-04</th>\n",
       "      <td>65</td>\n",
       "      <td>False</td>\n",
       "    </tr>\n",
       "  </tbody>\n",
       "</table>\n",
       "</div>"
      ],
      "text/plain": [
       "            Dilan 1990  isPartial\n",
       "date                             \n",
       "2018-01-07           3      False\n",
       "2018-01-14           9      False\n",
       "2018-01-21          39      False\n",
       "2018-01-28          92      False\n",
       "2018-02-04          65      False"
      ]
     },
     "execution_count": 151,
     "metadata": {},
     "output_type": "execute_result"
    }
   ],
   "source": [
    "it.head()"
   ]
  },
  {
   "cell_type": "markdown",
   "metadata": {},
   "source": [
    "2. Data Overtime"
   ]
  },
  {
   "cell_type": "code",
   "execution_count": 197,
   "metadata": {},
   "outputs": [
    {
     "data": {
      "text/html": [
       "<div>\n",
       "<style scoped>\n",
       "    .dataframe tbody tr th:only-of-type {\n",
       "        vertical-align: middle;\n",
       "    }\n",
       "\n",
       "    .dataframe tbody tr th {\n",
       "        vertical-align: top;\n",
       "    }\n",
       "\n",
       "    .dataframe thead th {\n",
       "        text-align: right;\n",
       "    }\n",
       "</style>\n",
       "<table border=\"1\" class=\"dataframe\">\n",
       "  <thead>\n",
       "    <tr style=\"text-align: right;\">\n",
       "      <th></th>\n",
       "      <th>date</th>\n",
       "      <th>jokowi</th>\n",
       "    </tr>\n",
       "  </thead>\n",
       "  <tbody>\n",
       "    <tr>\n",
       "      <th>0</th>\n",
       "      <td>2014-11-23</td>\n",
       "      <td>27</td>\n",
       "    </tr>\n",
       "    <tr>\n",
       "      <th>1</th>\n",
       "      <td>2014-11-30</td>\n",
       "      <td>21</td>\n",
       "    </tr>\n",
       "    <tr>\n",
       "      <th>2</th>\n",
       "      <td>2014-12-07</td>\n",
       "      <td>18</td>\n",
       "    </tr>\n",
       "    <tr>\n",
       "      <th>3</th>\n",
       "      <td>2014-12-14</td>\n",
       "      <td>16</td>\n",
       "    </tr>\n",
       "    <tr>\n",
       "      <th>4</th>\n",
       "      <td>2014-12-21</td>\n",
       "      <td>14</td>\n",
       "    </tr>\n",
       "  </tbody>\n",
       "</table>\n",
       "</div>"
      ],
      "text/plain": [
       "        date  jokowi\n",
       "0 2014-11-23      27\n",
       "1 2014-11-30      21\n",
       "2 2014-12-07      18\n",
       "3 2014-12-14      16\n",
       "4 2014-12-21      14"
      ]
     },
     "execution_count": 197,
     "metadata": {},
     "output_type": "execute_result"
    }
   ],
   "source": [
    "df.head()"
   ]
  },
  {
   "cell_type": "code",
   "execution_count": 35,
   "metadata": {},
   "outputs": [],
   "source": [
    "a=df.loc[0:5,:]"
   ]
  },
  {
   "cell_type": "code",
   "execution_count": 37,
   "metadata": {},
   "outputs": [
    {
     "data": {
      "text/plain": [
       "6"
      ]
     },
     "execution_count": 37,
     "metadata": {},
     "output_type": "execute_result"
    }
   ],
   "source": [
    "len(a)"
   ]
  },
  {
   "cell_type": "code",
   "execution_count": 199,
   "metadata": {},
   "outputs": [
    {
     "data": {
      "image/png": "[encoded data removed]",
      "text/plain": [
       "<Figure size 432x288 with 1 Axes>"
      ]
     },
     "metadata": {
      "needs_background": "light"
     },
     "output_type": "display_data"
    }
   ],
   "source": [
    "fig, ax1 = plt.subplots()\n",
    "plt.plot(a.date, a.jokowi)\n",
    "plt.scatter(a.date,a.jokowi, color='red')\n",
    "plt.xlabel('Tanggal')\n",
    "plt.xticks(rotation=90)\n",
    "plt.ylabel('Overtime')\n",
    "plt.title('Overtime Jokowi Tahun 2014')\n",
    "plt.show() "
   ]
  },
  {
   "cell_type": "code",
   "execution_count": 49,
   "metadata": {},
   "outputs": [
    {
     "data": {
      "text/plain": [
       "52"
      ]
     },
     "execution_count": 49,
     "metadata": {},
     "output_type": "execute_result"
    }
   ],
   "source": [
    "a2=df.loc[6:57,:]\n",
    "len(a2)"
   ]
  },
  {
   "cell_type": "code",
   "execution_count": 200,
   "metadata": {},
   "outputs": [
    {
     "data": {
      "image/png": "[encoded data removed]",
      "text/plain": [
       "<Figure size 432x288 with 1 Axes>"
      ]
     },
     "metadata": {
      "needs_background": "light"
     },
     "output_type": "display_data"
    }
   ],
   "source": [
    "plt.plot(a2.date, a2.jokowi)\n",
    "plt.scatter(a2.date,a2.jokowi, color='red')\n",
    "plt.xlabel('Tanggal')\n",
    "plt.xticks(rotation=90)\n",
    "plt.ylabel('Overtime')\n",
    "plt.title('Overtime Jokowi Tahun 2015')\n",
    "plt.show() "
   ]
  },
  {
   "cell_type": "code",
   "execution_count": 55,
   "metadata": {},
   "outputs": [
    {
     "data": {
      "text/plain": [
       "52"
      ]
     },
     "execution_count": 55,
     "metadata": {},
     "output_type": "execute_result"
    }
   ],
   "source": [
    "a3=df.loc[58:109,:]\n",
    "len(a3)"
   ]
  },
  {
   "cell_type": "code",
   "execution_count": 201,
   "metadata": {},
   "outputs": [
    {
     "data": {
      "image/png": "[encoded data removed]",
      "text/plain": [
       "<Figure size 432x288 with 1 Axes>"
      ]
     },
     "metadata": {
      "needs_background": "light"
     },
     "output_type": "display_data"
    }
   ],
   "source": [
    "plt.plot(a3.date, a3.jokowi)\n",
    "plt.scatter(a3.date,a3.jokowi, color='red')\n",
    "plt.xlabel('Tanggal')\n",
    "plt.xticks(rotation=90)\n",
    "plt.ylabel('Overtime')\n",
    "plt.title('Overtime Jokowi Tahun 2016')\n",
    "plt.show() "
   ]
  },
  {
   "cell_type": "code",
   "execution_count": 64,
   "metadata": {},
   "outputs": [
    {
     "data": {
      "text/plain": [
       "53"
      ]
     },
     "execution_count": 64,
     "metadata": {},
     "output_type": "execute_result"
    }
   ],
   "source": [
    "a4=df.loc[110:162,:]\n",
    "len(a4)"
   ]
  },
  {
   "cell_type": "code",
   "execution_count": 202,
   "metadata": {},
   "outputs": [
    {
     "data": {
      "image/png": "[encoded data removed]",
      "text/plain": [
       "<Figure size 432x288 with 1 Axes>"
      ]
     },
     "metadata": {
      "needs_background": "light"
     },
     "output_type": "display_data"
    }
   ],
   "source": [
    "plt.plot(a4.date, a4.jokowi)\n",
    "plt.scatter(a4.date,a4.jokowi, color='red')\n",
    "plt.xlabel('Tanggal')\n",
    "plt.xticks(rotation=90)\n",
    "plt.ylabel('Overtime')\n",
    "plt.title('Overtime Tahun 2017')\n",
    "plt.show() "
   ]
  },
  {
   "cell_type": "code",
   "execution_count": 69,
   "metadata": {},
   "outputs": [
    {
     "data": {
      "text/plain": [
       "52"
      ]
     },
     "execution_count": 69,
     "metadata": {},
     "output_type": "execute_result"
    }
   ],
   "source": [
    "a5=df.loc[163:214,:]\n",
    "len(a5)"
   ]
  },
  {
   "cell_type": "code",
   "execution_count": 203,
   "metadata": {},
   "outputs": [
    {
     "data": {
      "image/png": "[encoded data removed]",
      "text/plain": [
       "<Figure size 432x288 with 1 Axes>"
      ]
     },
     "metadata": {
      "needs_background": "light"
     },
     "output_type": "display_data"
    }
   ],
   "source": [
    "plt.plot(a5.date, a5.jokowi)\n",
    "plt.scatter(a5.date,a5.jokowi, color='red')\n",
    "plt.xlabel('Tanggal')\n",
    "plt.xticks(rotation=90)\n",
    "plt.ylabel('Overtime')\n",
    "plt.title('Overtime Jokowi Tahun 2018')\n",
    "plt.show() "
   ]
  },
  {
   "cell_type": "code",
   "execution_count": 73,
   "metadata": {},
   "outputs": [
    {
     "data": {
      "text/plain": [
       "45"
      ]
     },
     "execution_count": 73,
     "metadata": {},
     "output_type": "execute_result"
    }
   ],
   "source": [
    "a6=df.loc[215:260,:]\n",
    "len(a6)"
   ]
  },
  {
   "cell_type": "code",
   "execution_count": 205,
   "metadata": {},
   "outputs": [
    {
     "data": {
      "image/png": "[encoded data removed]",
      "text/plain": [
       "<Figure size 432x288 with 1 Axes>"
      ]
     },
     "metadata": {
      "needs_background": "light"
     },
     "output_type": "display_data"
    }
   ],
   "source": [
    "plt.plot(a6.date, a6.jokowi)\n",
    "plt.scatter(a6.date,a6.jokowi, color='red')\n",
    "plt.xlabel('Tanggal')\n",
    "plt.xticks(rotation=90)\n",
    "plt.ylabel('Overtime')\n",
    "plt.title('Overtime Jokowi Tahun 2019')\n",
    "plt.show() "
   ]
  },
  {
   "cell_type": "markdown",
   "metadata": {},
   "source": [
    "3. Interest by Region"
   ]
  },
  {
   "cell_type": "code",
   "execution_count": 92,
   "metadata": {},
   "outputs": [],
   "source": [
    "pytrend.build_payload(kw_list, cat=0, timeframe='2014-11-17 2019-11-17',gprop='')\n",
    "\n",
    "# Region\n",
    "r=pytrend.interest_by_region(resolution='Region')"
   ]
  },
  {
   "cell_type": "code",
   "execution_count": 94,
   "metadata": {},
   "outputs": [
    {
     "data": {
      "text/html": [
       "<div>\n",
       "<style scoped>\n",
       "    .dataframe tbody tr th:only-of-type {\n",
       "        vertical-align: middle;\n",
       "    }\n",
       "\n",
       "    .dataframe tbody tr th {\n",
       "        vertical-align: top;\n",
       "    }\n",
       "\n",
       "    .dataframe thead th {\n",
       "        text-align: right;\n",
       "    }\n",
       "</style>\n",
       "<table border=\"1\" class=\"dataframe\">\n",
       "  <thead>\n",
       "    <tr style=\"text-align: right;\">\n",
       "      <th></th>\n",
       "      <th>jokowi</th>\n",
       "    </tr>\n",
       "    <tr>\n",
       "      <th>geoName</th>\n",
       "      <th></th>\n",
       "    </tr>\n",
       "  </thead>\n",
       "  <tbody>\n",
       "    <tr>\n",
       "      <th>Afganistan</th>\n",
       "      <td>0</td>\n",
       "    </tr>\n",
       "    <tr>\n",
       "      <th>Afrika Selatan</th>\n",
       "      <td>0</td>\n",
       "    </tr>\n",
       "    <tr>\n",
       "      <th>Albania</th>\n",
       "      <td>0</td>\n",
       "    </tr>\n",
       "    <tr>\n",
       "      <th>Aljazair</th>\n",
       "      <td>0</td>\n",
       "    </tr>\n",
       "    <tr>\n",
       "      <th>Amerika Serikat</th>\n",
       "      <td>0</td>\n",
       "    </tr>\n",
       "    <tr>\n",
       "      <th>Andorra</th>\n",
       "      <td>0</td>\n",
       "    </tr>\n",
       "    <tr>\n",
       "      <th>Angola</th>\n",
       "      <td>0</td>\n",
       "    </tr>\n",
       "    <tr>\n",
       "      <th>Anguilla</th>\n",
       "      <td>0</td>\n",
       "    </tr>\n",
       "    <tr>\n",
       "      <th>Antartika</th>\n",
       "      <td>0</td>\n",
       "    </tr>\n",
       "    <tr>\n",
       "      <th>Antigua dan Barbuda</th>\n",
       "      <td>0</td>\n",
       "    </tr>\n",
       "    <tr>\n",
       "      <th>Arab Saudi</th>\n",
       "      <td>1</td>\n",
       "    </tr>\n",
       "    <tr>\n",
       "      <th>Argentina</th>\n",
       "      <td>0</td>\n",
       "    </tr>\n",
       "    <tr>\n",
       "      <th>Armenia</th>\n",
       "      <td>0</td>\n",
       "    </tr>\n",
       "    <tr>\n",
       "      <th>Aruba</th>\n",
       "      <td>0</td>\n",
       "    </tr>\n",
       "    <tr>\n",
       "      <th>Australia</th>\n",
       "      <td>0</td>\n",
       "    </tr>\n",
       "    <tr>\n",
       "      <th>Austria</th>\n",
       "      <td>0</td>\n",
       "    </tr>\n",
       "    <tr>\n",
       "      <th>Azerbaijan</th>\n",
       "      <td>0</td>\n",
       "    </tr>\n",
       "    <tr>\n",
       "      <th>Bahama</th>\n",
       "      <td>0</td>\n",
       "    </tr>\n",
       "    <tr>\n",
       "      <th>Bahrain</th>\n",
       "      <td>0</td>\n",
       "    </tr>\n",
       "    <tr>\n",
       "      <th>Bangladesh</th>\n",
       "      <td>0</td>\n",
       "    </tr>\n",
       "    <tr>\n",
       "      <th>Barbados</th>\n",
       "      <td>0</td>\n",
       "    </tr>\n",
       "    <tr>\n",
       "      <th>Belanda</th>\n",
       "      <td>0</td>\n",
       "    </tr>\n",
       "    <tr>\n",
       "      <th>Belanda Karibia</th>\n",
       "      <td>0</td>\n",
       "    </tr>\n",
       "    <tr>\n",
       "      <th>Belarus</th>\n",
       "      <td>0</td>\n",
       "    </tr>\n",
       "    <tr>\n",
       "      <th>Belgia</th>\n",
       "      <td>0</td>\n",
       "    </tr>\n",
       "  </tbody>\n",
       "</table>\n",
       "</div>"
      ],
      "text/plain": [
       "                     jokowi\n",
       "geoName                    \n",
       "Afganistan                0\n",
       "Afrika Selatan            0\n",
       "Albania                   0\n",
       "Aljazair                  0\n",
       "Amerika Serikat           0\n",
       "Andorra                   0\n",
       "Angola                    0\n",
       "Anguilla                  0\n",
       "Antartika                 0\n",
       "Antigua dan Barbuda       0\n",
       "Arab Saudi                1\n",
       "Argentina                 0\n",
       "Armenia                   0\n",
       "Aruba                     0\n",
       "Australia                 0\n",
       "Austria                   0\n",
       "Azerbaijan                0\n",
       "Bahama                    0\n",
       "Bahrain                   0\n",
       "Bangladesh                0\n",
       "Barbados                  0\n",
       "Belanda                   0\n",
       "Belanda Karibia           0\n",
       "Belarus                   0\n",
       "Belgia                    0"
      ]
     },
     "execution_count": 94,
     "metadata": {},
     "output_type": "execute_result"
    }
   ],
   "source": [
    "r=pd.DataFrame(r)\n",
    "r.head(25)"
   ]
  },
  {
   "cell_type": "markdown",
   "metadata": {},
   "source": [
    "4. Related Topic"
   ]
  },
  {
   "cell_type": "code",
   "execution_count": 90,
   "metadata": {},
   "outputs": [],
   "source": [
    "pytrend.build_payload(kw_list, cat=0, timeframe='2014-11-17 2019-11-17',geo='',gprop='')\n",
    "\n",
    "# Rltd\n",
    "rltd=pytrend.related_topics()"
   ]
  },
  {
   "cell_type": "code",
   "execution_count": 91,
   "metadata": {},
   "outputs": [
    {
     "data": {
      "text/plain": [
       "{'jokowi': {'rising':     value formattedValue                                               link  \\\n",
       "  0   27300     Naik tajam  /trends/explore?q=/m/03ggzf&date=2014-11-17+20...   \n",
       "  1   20900     Naik tajam  /trends/explore?q=/m/04n4sh3&date=2014-11-17+2...   \n",
       "  2    9350     Naik tajam  /trends/explore?q=/g/120lqmhj&date=2014-11-17+...   \n",
       "  3    7250     Naik tajam  /trends/explore?q=/m/0253sb&date=2014-11-17+20...   \n",
       "  4    6950     Naik tajam  /trends/explore?q=/m/0j5vnmx&date=2014-11-17+2...   \n",
       "  5    6850     Naik tajam  /trends/explore?q=/g/120jx0ps&date=2014-11-17+...   \n",
       "  6    6650     Naik tajam  /trends/explore?q=/m/0bwj_gq&date=2014-11-17+2...   \n",
       "  7    5650     Naik tajam  /trends/explore?q=/g/11gbk2vqm5&date=2014-11-1...   \n",
       "  8    5200     Naik tajam  /trends/explore?q=/m/09s0z&date=2014-11-17+201...   \n",
       "  9    3950        +3.950%  /trends/explore?q=/g/11bc87mbhr&date=2014-11-1...   \n",
       "  10   3650        +3.650%  /trends/explore?q=/g/120z_27z&date=2014-11-17+...   \n",
       "  11   3000        +3.000%  /trends/explore?q=/m/0kw9&date=2014-11-17+2019...   \n",
       "  12   2850        +2.850%  /trends/explore?q=/g/1yp37ff2h&date=2014-11-17...   \n",
       "  13   2200        +2.200%  /trends/explore?q=/m/01dx2v&date=2014-11-17+20...   \n",
       "  14   1950        +1.950%  /trends/explore?q=/m/0lvjm&date=2014-11-17+201...   \n",
       "  15   1900        +1.900%  /trends/explore?q=/m/017kvv&date=2014-11-17+20...   \n",
       "  16   1600        +1.600%  /trends/explore?q=/m/0v_sx80&date=2014-11-17+2...   \n",
       "  17   1250        +1.250%  /trends/explore?q=/m/0vb3rv0&date=2014-11-17+2...   \n",
       "  18   1150        +1.150%  /trends/explore?q=/g/1hb_g_1_y&date=2014-11-17...   \n",
       "  19    850          +850%  /trends/explore?q=/m/0kpwy&date=2014-11-17+201...   \n",
       "  20    800          +800%  /trends/explore?q=/m/03sfg&date=2014-11-17+201...   \n",
       "  21    800          +800%  /trends/explore?q=/m/01181sfp&date=2014-11-17+...   \n",
       "  22    650          +650%  /trends/explore?q=/m/0gnwz4&date=2014-11-17+20...   \n",
       "  23    600          +600%  /trends/explore?q=/g/12qbggl19&date=2014-11-17...   \n",
       "  24    450          +450%  /trends/explore?q=/m/0gfps3&date=2014-11-17+20...   \n",
       "  \n",
       "          topic_mid                                  topic_title  \\\n",
       "  0       /m/03ggzf                           Perombakan kabinet   \n",
       "  1      /m/04n4sh3                        Muhammad Zainul Majdi   \n",
       "  2     /g/120lqmhj                                  Ma'ruf Amin   \n",
       "  3       /m/0253sb                              Pernikahan anak   \n",
       "  4      /m/0j5vnmx                     Agus Harimurti Yudhoyono   \n",
       "  5     /g/120jx0ps                                    Anak cucu   \n",
       "  6      /m/0bwj_gq                                 Sandiaga Uno   \n",
       "  7   /g/11gbk2vqm5                                  Abdul Somad   \n",
       "  8        /m/09s0z                          Pesta Olahraga Asia   \n",
       "  9   /g/11bc87mbhr                                    Nawa Cita   \n",
       "  10    /g/120z_27z                                      Menantu   \n",
       "  11        /m/0kw9                                 Turun takhta   \n",
       "  12   /g/1yp37ff2h                                    Perumahan   \n",
       "  13      /m/01dx2v                            Kebijakan ekonomi   \n",
       "  14       /m/0lvjm                       Periode tabel periodik   \n",
       "  15      /m/017kvv                                Infrastruktur   \n",
       "  16     /m/0v_sx80                       Muhammad Rizieq Shihab   \n",
       "  17     /m/0vb3rv0                           Freeport Indonesia   \n",
       "  18   /g/1hb_g_1_y                               Tito Karnavian   \n",
       "  19       /m/0kpwy                                    Jalan tol   \n",
       "  20       /m/03sfg                            Ekonomi Indonesia   \n",
       "  21    /m/01181sfp                                       Kurban   \n",
       "  22      /m/0gnwz4                                   Unjuk rasa   \n",
       "  23   /g/12qbggl19  Kepala Kepolisian Negara Republik Indonesia   \n",
       "  24      /m/0gfps3                                      Ekonomi   \n",
       "  \n",
       "                                             topic_type  \n",
       "  0                                               Topik  \n",
       "  1                                            Politisi  \n",
       "  2                            Wakil Presiden Indonesia  \n",
       "  3                                               Topik  \n",
       "  4                                     Pejabat militer  \n",
       "  5                                               Topik  \n",
       "  6                                           Pengusaha  \n",
       "  7                                               Ulama  \n",
       "  8                                               Topik  \n",
       "  9                                               Topik  \n",
       "  10                                              Topik  \n",
       "  11                                              Topik  \n",
       "  12                                              Topik  \n",
       "  13                                       Bidang studi  \n",
       "  14                                              Topik  \n",
       "  15                                              Topik  \n",
       "  16                                              Topik  \n",
       "  17                                         Perusahaan  \n",
       "  18  Kepala polisi Kepolisian Negara Republik Indon...  \n",
       "  19                                              Jalan  \n",
       "  20                                              Topik  \n",
       "  21                                              Islam  \n",
       "  22                                              Topik  \n",
       "  23                                              Topik  \n",
       "  24                                              Topik  ,\n",
       "  'top':     value formattedValue  hasData  \\\n",
       "  0     100            100     True   \n",
       "  1       7              7     True   \n",
       "  2       5              5     True   \n",
       "  3       4              4     True   \n",
       "  4       4              4     True   \n",
       "  5       4              4     True   \n",
       "  6       3              3     True   \n",
       "  7       3              3     True   \n",
       "  8       2              2     True   \n",
       "  9       1              1     True   \n",
       "  10      1              1     True   \n",
       "  11      1              1     True   \n",
       "  12      1              1     True   \n",
       "  13      1              1     True   \n",
       "  14      1              1     True   \n",
       "  15      1              1     True   \n",
       "  16      1              1     True   \n",
       "  17      1              1     True   \n",
       "  18      1              1     True   \n",
       "  19      1              1     True   \n",
       "  20      1              1     True   \n",
       "  21      1              1     True   \n",
       "  22      1              1     True   \n",
       "  23      1              1     True   \n",
       "  24      0             <1     True   \n",
       "  \n",
       "                                                   link     topic_mid  \\\n",
       "  0   /trends/explore?q=/m/0dsc093&date=2014-11-17+2...    /m/0dsc093   \n",
       "  1   /trends/explore?q=/m/085brj&date=2014-11-17+20...     /m/085brj   \n",
       "  2   /trends/explore?q=/m/03ryn&date=2014-11-17+201...      /m/03ryn   \n",
       "  3   /trends/explore?q=/m/097kp&date=2014-11-17+201...      /m/097kp   \n",
       "  4   /trends/explore?q=/m/04n7jkq&date=2014-11-17+2...    /m/04n7jkq   \n",
       "  5   /trends/explore?q=/m/0377k9&date=2014-11-17+20...     /m/0377k9   \n",
       "  6   /trends/explore?q=/m/0j65n9k&date=2014-11-17+2...    /m/0j65n9k   \n",
       "  7   /trends/explore?q=/g/1231g15s&date=2014-11-17+...   /g/1231g15s   \n",
       "  8   /trends/explore?q=/m/03b56_&date=2014-11-17+20...     /m/03b56_   \n",
       "  9   /trends/explore?q=/g/120lqmhj&date=2014-11-17+...   /g/120lqmhj   \n",
       "  10  /trends/explore?q=/m/051fj9&date=2014-11-17+20...     /m/051fj9   \n",
       "  11  /trends/explore?q=/m/011dzvs4&date=2014-11-17+...   /m/011dzvs4   \n",
       "  12  /trends/explore?q=/m/05_5d&date=2014-11-17+201...      /m/05_5d   \n",
       "  13  /trends/explore?q=/m/044rv&date=2014-11-17+201...      /m/044rv   \n",
       "  14  /trends/explore?q=/m/060c4&date=2014-11-17+201...      /m/060c4   \n",
       "  15  /trends/explore?q=/g/120p9ymc&date=2014-11-17+...   /g/120p9ymc   \n",
       "  16  /trends/explore?q=/g/125_jqndp&date=2014-11-17...  /g/125_jqndp   \n",
       "  17  /trends/explore?q=/m/05qt0&date=2014-11-17+201...      /m/05qt0   \n",
       "  18  /trends/explore?q=/m/04k6c0&date=2014-11-17+20...     /m/04k6c0   \n",
       "  19  /trends/explore?q=/m/0gfps3&date=2014-11-17+20...     /m/0gfps3   \n",
       "  20  /trends/explore?q=/m/020xwm&date=2014-11-17+20...     /m/020xwm   \n",
       "  21  /trends/explore?q=/g/120z_27z&date=2014-11-17+...   /g/120z_27z   \n",
       "  22  /trends/explore?q=/g/120jx0ps&date=2014-11-17+...   /g/120jx0ps   \n",
       "  23  /trends/explore?q=/m/0gnwz4&date=2014-11-17+20...     /m/0gnwz4   \n",
       "  24  /trends/explore?q=/m/0bwj_gq&date=2014-11-17+2...    /m/0bwj_gq   \n",
       "  \n",
       "                         topic_title                       topic_type  \n",
       "  0                      Joko Widodo               Presiden Indonesia  \n",
       "  1                 Prabowo Subianto     Menteri Pertahanan Indonesia  \n",
       "  2                        Indonesia                           Negara  \n",
       "  3                 Bahasa Indonesia                           Bahasa  \n",
       "  4   Kabinet Pemerintahan Indonesia                            Topik  \n",
       "  5                          Menteri                          Jabatan  \n",
       "  6           Basuki Tjahaja Purnama          Mantan Gubernur Jakarta  \n",
       "  7               Presiden Indonesia                            Topik  \n",
       "  8         Susilo Bambang Yudhoyono        Mantan Presiden Indonesia  \n",
       "  9                      Ma'ruf Amin         Wakil Presiden Indonesia  \n",
       "  10                     Jusuf Kalla  Mantan Wakil Presiden Indonesia  \n",
       "  11                        detikCom                        Situs web  \n",
       "  12                  Partai politik                 Jenis organisasi  \n",
       "  13                         Jakarta               Ibu kota Indonesia  \n",
       "  14                        Presiden                          Jabatan  \n",
       "  15                        Kampanye                            Topik  \n",
       "  16                          Pidato                            Topik  \n",
       "  17                         Politik                            Topik  \n",
       "  18        Partai Komunis Indonesia                   Partai politik  \n",
       "  19                         Ekonomi                            Topik  \n",
       "  20                       Kebijakan                            Topik  \n",
       "  21                         Menantu                            Topik  \n",
       "  22                       Anak cucu                            Topik  \n",
       "  23                      Unjuk rasa                            Topik  \n",
       "  24                    Sandiaga Uno                        Pengusaha  }}"
      ]
     },
     "execution_count": 91,
     "metadata": {},
     "output_type": "execute_result"
    }
   ],
   "source": [
    "rltd"
   ]
  },
  {
   "cell_type": "markdown",
   "metadata": {},
   "source": [
    "5.Related Queries"
   ]
  },
  {
   "cell_type": "code",
   "execution_count": 95,
   "metadata": {},
   "outputs": [],
   "source": [
    "pytrend.build_payload(kw_list, cat=0, timeframe='2016-12-14 2017-01-25',gprop='')\n",
    "\n",
    "# Rltd q\n",
    "rltd1=pytrend.related_queries()"
   ]
  },
  {
   "cell_type": "code",
   "execution_count": 96,
   "metadata": {},
   "outputs": [
    {
     "data": {
      "text/plain": [
       "{'jokowi': {'top':                          query  value\n",
       "  0            undercover jokowi    100\n",
       "  1              presiden jokowi     54\n",
       "  2                         ahok     51\n",
       "  3                  buku jokowi     49\n",
       "  4                  jokowi ahok     49\n",
       "  5                    indonesia     46\n",
       "  6                   jokowi pki     35\n",
       "  7       buku jokowi undercover     34\n",
       "  8                          pki     34\n",
       "  9                  foto jokowi     25\n",
       "  10               berita jokowi     24\n",
       "  11                      berita     23\n",
       "  12              tentang jokowi     21\n",
       "  13                 anak jokowi     19\n",
       "  14       isi jokowi undercover     19\n",
       "  15                         sby     17\n",
       "  16  isi buku jokowi undercover     17\n",
       "  17              jokowi terbaru     14\n",
       "  18                 bambang tri     10\n",
       "  19          bambang tri jokowi     10\n",
       "  20             jokowi hari ini     10\n",
       "  21                jaket jokowi     10\n",
       "  22               gambar jokowi      9\n",
       "  23                         fpi      9\n",
       "  24              kabinet jokowi      9,\n",
       "  'rising':                                  query   value\n",
       "  0                isi jokowi undercover  192850\n",
       "  1           isi buku jokowi undercover  174750\n",
       "  2                            bloomberg   66000\n",
       "  3                        sarung jokowi   40500\n",
       "  4       jokowi undercover pdf download   27750\n",
       "  5                 jokowi di pekalongan   23400\n",
       "  6                  buku tentang jokowi   17750\n",
       "  7                 judul skripsi jokowi   15200\n",
       "  8                      umur ibu jokowi   15000\n",
       "  9                   ibu kandung jokowi   14900\n",
       "  10      apa isi buku jokowi undercover   14100\n",
       "  11                 jokowi pakai sarung   13950\n",
       "  12             kasus jokowi undercover   13150\n",
       "  13                jokowi injak bendera   12250\n",
       "  14              jokowi under cover pdf   11150\n",
       "  15             ebook jokowi undercover   10600\n",
       "  16         jual buku jokowi undercover   10500\n",
       "  17                 jokowi cukur rambut    9050\n",
       "  18  jokowi undercover oleh bambang tri    8650\n",
       "  19                      jokowi panahan    8150\n",
       "  20    jokowi injak bendera merah putih    8100\n",
       "  21      tentang buku jokowi undercover    6350\n",
       "  22                jokowi ke pekalongan    6350\n",
       "  23      penulis buku jokowi undercover    6350\n",
       "  24                     jokowi sarungan    6300}}"
      ]
     },
     "execution_count": 96,
     "metadata": {},
     "output_type": "execute_result"
    }
   ],
   "source": [
    "rltd1"
   ]
  },
  {
   "cell_type": "markdown",
   "metadata": {},
   "source": [
    "### Modelling"
   ]
  },
  {
   "cell_type": "markdown",
   "metadata": {},
   "source": [
    "Disini digunakan SVR  dengan fungsi kernel Radial Basis Support (RBF).\n",
    "\n",
    "\n",
    "Variabel X=Overtime(jokowi)\n",
    "\n",
    "Variabel Y= Overtime+1(jokowi)"
   ]
  },
  {
   "cell_type": "code",
   "execution_count": 14,
   "metadata": {},
   "outputs": [],
   "source": [
    "X=df.iloc[0:258,:]\n",
    "\n",
    "Y=df.iloc[1:259,:]"
   ]
  },
  {
   "cell_type": "code",
   "execution_count": 15,
   "metadata": {},
   "outputs": [
    {
     "name": "stdout",
     "output_type": "stream",
     "text": [
      "     jokowi\n",
      "0        27\n",
      "1        21\n",
      "2        18\n",
      "3        16\n",
      "4        15\n",
      "..      ...\n",
      "253      11\n",
      "254       8\n",
      "255      10\n",
      "256     100\n",
      "257      11\n",
      "\n",
      "[258 rows x 1 columns]\n"
     ]
    }
   ],
   "source": [
    "X1=X.jokowi\n",
    "X1=pd.DataFrame(X1)\n",
    "print(X1)\n"
   ]
  },
  {
   "cell_type": "code",
   "execution_count": 16,
   "metadata": {},
   "outputs": [
    {
     "name": "stdout",
     "output_type": "stream",
     "text": [
      "     jokowi\n",
      "1        21\n",
      "2        18\n",
      "3        16\n",
      "4        15\n",
      "5        14\n",
      "..      ...\n",
      "254       8\n",
      "255      10\n",
      "256     100\n",
      "257      11\n",
      "258       6\n",
      "\n",
      "[258 rows x 1 columns]\n"
     ]
    }
   ],
   "source": [
    "Y1=Y.jokowi\n",
    "Y1=pd.DataFrame(Y1)\n",
    "print(Y1)"
   ]
  },
  {
   "cell_type": "code",
   "execution_count": null,
   "metadata": {},
   "outputs": [],
   "source": []
  },
  {
   "cell_type": "code",
   "execution_count": 17,
   "metadata": {},
   "outputs": [
    {
     "data": {
      "text/plain": [
       "<matplotlib.collections.PathCollection at 0x28b1075f668>"
      ]
     },
     "execution_count": 17,
     "metadata": {},
     "output_type": "execute_result"
    },
    {
     "data": {
      "image/png": "[encoded data removed]",
      "text/plain": [
       "<Figure size 432x288 with 1 Axes>"
      ]
     },
     "metadata": {
      "needs_background": "light"
     },
     "output_type": "display_data"
    }
   ],
   "source": [
    "plt.scatter(X1,Y1)"
   ]
  },
  {
   "cell_type": "code",
   "execution_count": 18,
   "metadata": {},
   "outputs": [
    {
     "data": {
      "text/plain": [
       "array([[27],\n",
       "       [21],\n",
       "       [18],\n",
       "       [16],\n",
       "       [15]])"
      ]
     },
     "execution_count": 18,
     "metadata": {},
     "output_type": "execute_result"
    }
   ],
   "source": [
    "import numpy as np\n",
    "X_ = np.asarray(X1)\n",
    "X_[0:5]"
   ]
  },
  {
   "cell_type": "code",
   "execution_count": 19,
   "metadata": {},
   "outputs": [
    {
     "data": {
      "text/plain": [
       "array([[21],\n",
       "       [18],\n",
       "       [16],\n",
       "       [15],\n",
       "       [14]])"
      ]
     },
     "execution_count": 19,
     "metadata": {},
     "output_type": "execute_result"
    }
   ],
   "source": [
    "Y_=np.asarray(Y1)\n",
    "Y_[0:5]"
   ]
  },
  {
   "cell_type": "code",
   "execution_count": 20,
   "metadata": {},
   "outputs": [],
   "source": [
    "from sklearn.model_selection import train_test_split\n",
    "xtrain,xtest,ytrain,ytest=train_test_split(X_,Y_)\n",
    "  "
   ]
  },
  {
   "cell_type": "markdown",
   "metadata": {},
   "source": [
    "Setelah itu dilakukan penentuan parameter terbaik pada SVR dengan kernel RBF. Disini digunakan beberapa nilai gamma dari 5 hingga 10."
   ]
  },
  {
   "cell_type": "code",
   "execution_count": 40,
   "metadata": {},
   "outputs": [],
   "source": [
    "from sklearn.model_selection import GridSearchCV, cross_validate\n",
    "import math\n",
    "def model(xtrain, ytrain):\n",
    "    gcs = GridSearchCV(SVR(kernel='rbf'),\n",
    "                       param_grid={'gamma': [5, 6, 7, 8, 9, 10]},\n",
    "                       cv=5,\n",
    "                       scoring='neg_mean_squared_error')\n",
    "    grid_result = gcs.fit(xtrain, ytrain)\n",
    "    best_params = grid_result.best_params_\n",
    "    best_svr = SVR(kernel='rbf', C=1e3, gamma=best_params[\"gamma\"])\n",
    "    best_svr.fit(xtrain, ytrain)\n",
    "    y_pred = best_svr.predict(xtest)\n",
    "    scoring = {\n",
    "               'abs_error': 'neg_mean_absolute_error',\n",
    "               'squared_error': 'neg_mean_squared_error'}\n",
    "\n",
    "    scores = cross_validate(best_svr, xtrain, ytrain, cv=10, scoring=scoring, return_train_score=True)\n",
    "    return \"MAE :\", abs(scores['test_abs_error'].mean()), \"| RMSE :\", math.sqrt(abs(scores['test_squared_error'].mean()))\n",
    "    \n",
    "\n"
   ]
  },
  {
   "cell_type": "markdown",
   "metadata": {},
   "source": [
    "Untuk melihat apakah pembentukan model prediksi yang dibuat sudah mendekati nilai data sebenarnya, dapat dilihat dengan melihat plot hasil prediksi dengan data sebenarnya"
   ]
  },
  {
   "cell_type": "code",
   "execution_count": 41,
   "metadata": {},
   "outputs": [
    {
     "data": {
      "image/png": "[encoded data removed]",
      "text/plain": [
       "<Figure size 432x288 with 1 Axes>"
      ]
     },
     "metadata": {
      "needs_background": "light"
     },
     "output_type": "display_data"
    }
   ],
   "source": [
    "plt.scatter(xtrain, ytrain, color = 'magenta')\n",
    "plt.plot(xtrain, ytrain, color = 'green')\n",
    "plt.title('Support Vector Regression Model')\n",
    "plt.xlabel('X1')\n",
    "plt.ylabel('Y1')\n",
    "plt.show()"
   ]
  },
  {
   "cell_type": "markdown",
   "metadata": {},
   "source": [
    "untuk memastikan bahwa model ini sudah bagus atau tidak dapat dipastikan dengan melihat Mean Ablosute Error(MAE) dan Root Mean Square Error (RMSE). "
   ]
  },
  {
   "cell_type": "code",
   "execution_count": 42,
   "metadata": {},
   "outputs": [
    {
     "data": {
      "text/plain": [
       "('MAE :', 2.9441863219192546, '| RMSE :', 9.182735770776635)"
      ]
     },
     "execution_count": 42,
     "metadata": {},
     "output_type": "execute_result"
    }
   ],
   "source": [
    "from sklearn.metrics import mean_absolute_error, mean_squared_error, r2_score\n",
    "model(xtrain,ytrain)\n"
   ]
  },
  {
   "cell_type": "code",
   "execution_count": 43,
   "metadata": {},
   "outputs": [
    {
     "name": "stdout",
     "output_type": "stream",
     "text": [
      "R^2: 0.213\n"
     ]
    }
   ],
   "source": [
    "print('R^2: {0:.3f}'.format(r2_score(ytest, y_pred)))"
   ]
  },
  {
   "cell_type": "markdown",
   "metadata": {},
   "source": [
    "Intrepretasi\n",
    "\n",
    "Bisa dilihat bahwa MAE=2.94 dan RMSE 9.18.\n",
    "\n",
    "R² yang bernilai 0.213 menandakan bahwa variabel X(Overtime 1) berpengaruh terhadap variabel Y(Overtime+1) sebesar 21.3 % dan sisanya dijlskan oleh variabel lainnya"
   ]
  },
  {
   "cell_type": "code",
   "execution_count": null,
   "metadata": {},
   "outputs": [],
   "source": []
  }
 ],
 "metadata": {
  "kernelspec": {
   "display_name": "Python 3",
   "language": "python",
   "name": "python3"
  },
  "language_info": {
   "codemirror_mode": {
    "name": "ipython",
    "version": 3
   },
   "file_extension": ".py",
   "mimetype": "text/x-python",
   "name": "python",
   "nbconvert_exporter": "python",
   "pygments_lexer": "ipython3",
   "version": "3.6.9"
  }
 },
 "nbformat": 4,
 "nbformat_minor": 2
}
